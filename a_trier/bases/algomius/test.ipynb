{
 "cells": [
  {
   "cell_type": "markdown",
   "metadata": {},
   "source": [
    "# Premier jupyter NoteBook\n"
   ]
  },
  {
   "cell_type": "code",
   "execution_count": 4,
   "metadata": {},
   "outputs": [
    {
     "name": "stdout",
     "output_type": "stream",
     "text": [
      "Somme a+b = 8\n"
     ]
    }
   ],
   "source": [
    "a=5\n",
    "b=3\n",
    "print('Somme a+b = ' + (str) (a+b))\n"
   ]
  },
  {
   "cell_type": "markdown",
   "metadata": {},
   "source": [
    "On obtient bien 8"
   ]
  },
  {
   "cell_type": "code",
   "execution_count": 5,
   "metadata": {},
   "outputs": [],
   "source": [
    "a = 5\n",
    "b = 3\n",
    "with open(\"uuu.txt\", \"w\") as f:\n",
    "    print(a, b, a + b, a - b, a * b, a / b, a % b, a**b, a // b, sep=\" - \", file=f)\n"
   ]
  },
  {
   "cell_type": "code",
   "execution_count": 6,
   "metadata": {},
   "outputs": [
    {
     "name": "stdout",
     "output_type": "stream",
     "text": [
      "lio 22\n",
      "type de age: <class 'int'>\n"
     ]
    }
   ],
   "source": [
    "nom = input('Votre nom ? ')\n",
    "age = int(input('Votre age ? '))\n",
    "print (nom, age)\n",
    "\n",
    "print ('type de age: ' + str(type(age)))\n"
   ]
  },
  {
   "cell_type": "markdown",
   "metadata": {},
   "source": [
    "## Sortie standard & sortie standard d'erreur"
   ]
  },
  {
   "cell_type": "code",
   "execution_count": 7,
   "metadata": {},
   "outputs": [
    {
     "name": "stdout",
     "output_type": "stream",
     "text": [
      "11 sur sortie standard\n"
     ]
    },
    {
     "name": "stderr",
     "output_type": "stream",
     "text": [
      "22 sur sortie standard d'erreur\n"
     ]
    }
   ],
   "source": [
    "import sys\n",
    "\n",
    "standard_input = 'entrees.txt'\n",
    "\n",
    "if standard_input:\n",
    "    with open(standard_input, 'r') as f:\n",
    "        inp1, inp2 = f.readline().split(',')\n",
    "    n1 = int(inp1.strip())\n",
    "    n2 = int(inp2.strip())\n",
    "else:\n",
    "    n1 = int(input('Nombre 1 ? '))\n",
    "    n2 = int(input('Nombre 2 ? '))\n",
    "\n",
    "print(n1, 'sur sortie standard', file=sys.stdout)\n",
    "print(n2, 'sur sortie standard d\\'erreur', file=sys.stderr)\n"
   ]
  },
  {
   "cell_type": "markdown",
   "metadata": {},
   "source": [
    "Il faut un fichier entrees.txt avec les nombres 11 et 22"
   ]
  },
  {
   "cell_type": "code",
   "execution_count": 8,
   "metadata": {},
   "outputs": [
    {
     "data": {
      "text/plain": [
       "(11, 22)"
      ]
     },
     "execution_count": 8,
     "metadata": {},
     "output_type": "execute_result"
    }
   ],
   "source": [
    "11,22\n"
   ]
  },
  {
   "cell_type": "markdown",
   "metadata": {},
   "source": [
    "On peut alors lancer en étant dans le même répertoire, avec: 'py main.py < entrees.txt'"
   ]
  },
  {
   "cell_type": "markdown",
   "metadata": {},
   "source": [
    "On peut aussi redirigiger ces sortie avec:"
   ]
  },
  {
   "cell_type": "markdown",
   "metadata": {},
   "source": [
    "py main.py 1>sortie.txt 2> erreur.txt"
   ]
  },
  {
   "cell_type": "markdown",
   "metadata": {},
   "source": [
    "ou\n",
    "py main.py 1> sortie.txt 2>> erreur.txt"
   ]
  },
  {
   "cell_type": "markdown",
   "metadata": {},
   "source": [
    "On peut envoyer des arguments:"
   ]
  },
  {
   "cell_type": "code",
   "execution_count": 10,
   "metadata": {},
   "outputs": [
    {
     "ename": "SyntaxError",
     "evalue": "invalid character '→' (U+2192) (1633584943.py, line 3)",
     "output_type": "error",
     "traceback": [
      "\u001b[1;36m  Cell \u001b[1;32mIn[10], line 3\u001b[1;36m\u001b[0m\n\u001b[1;33m    argv[0] → nom du programme\u001b[0m\n\u001b[1;37m            ^\u001b[0m\n\u001b[1;31mSyntaxError\u001b[0m\u001b[1;31m:\u001b[0m invalid character '→' (U+2192)\n"
     ]
    }
   ],
   "source": [
    "from syst import argv\n",
    "\n",
    "argv[0] → nom du programme\n",
    "argv[1] → 1er param\n",
    "argv[len(argv)-1] → dernier param\n"
   ]
  },
  {
   "cell_type": "markdown",
   "metadata": {},
   "source": [
    "Paramètres"
   ]
  },
  {
   "cell_type": "code",
   "execution_count": 13,
   "metadata": {},
   "outputs": [
    {
     "name": "stdout",
     "output_type": "stream",
     "text": [
      "Je suis  ['c:\\\\laragon\\\\www\\\\PYTHON\\\\python\\\\.venv\\\\Lib\\\\site-packages\\\\ipykernel_launcher.py', '--f=c:\\\\Users\\\\utilisateur\\\\AppData\\\\Roaming\\\\jupyter\\\\runtime\\\\kernel-v32c24cd10024d052899ace6b84d3b975bf6698c67.json']\n"
     ]
    },
    {
     "ename": "TypeError",
     "evalue": "'<' not supported between instances of 'list' and 'int'",
     "output_type": "error",
     "traceback": [
      "\u001b[1;31m---------------------------------------------------------------------------\u001b[0m",
      "\u001b[1;31mTypeError\u001b[0m                                 Traceback (most recent call last)",
      "Cell \u001b[1;32mIn[13], line 14\u001b[0m\n\u001b[0;32m     12\u001b[0m     \u001b[38;5;28mprint\u001b[39m(\u001b[38;5;124m\"\u001b[39m\u001b[38;5;124mNom du user : \u001b[39m\u001b[38;5;124m\"\u001b[39m, nom)\n\u001b[0;32m     13\u001b[0m     \u001b[38;5;28mprint\u001b[39m(\u001b[38;5;124m\"\u001b[39m\u001b[38;5;124mAge du user : \u001b[39m\u001b[38;5;124m\"\u001b[39m, age)\n\u001b[1;32m---> 14\u001b[0m \u001b[38;5;28;01melif\u001b[39;00m \u001b[38;5;28mlen\u001b[39m(\u001b[43margv\u001b[49m\u001b[38;5;241;43m<\u001b[39;49m\u001b[38;5;241;43m3\u001b[39;49m):\n\u001b[0;32m     15\u001b[0m     \u001b[38;5;28mprint\u001b[39m(\u001b[38;5;124m'\u001b[39m\u001b[38;5;124mUsage : py main.py <nom> <age>\u001b[39m\u001b[38;5;124m'\u001b[39m)\n\u001b[0;32m     16\u001b[0m     sys\u001b[38;5;241m.\u001b[39mexit(\u001b[38;5;241m0\u001b[39m)\n",
      "\u001b[1;31mTypeError\u001b[0m: '<' not supported between instances of 'list' and 'int'"
     ]
    }
   ],
   "source": [
    "import sys\n",
    "from sys import argv\n",
    "\n",
    "print(\"Je suis \", argv)\n",
    "\n",
    "# py main.py 12 23\n",
    "# → Je suis  ['main.py', '12']\n",
    "\n",
    "if len(argv) == 3:\n",
    "    prog, nom, age = argv\n",
    "    print(\"Nom du programme : \", prog)\n",
    "    print(\"Nom du user : \", nom)\n",
    "    print(\"Age du user : \", age)\n",
    "elif len(argv<3):\n",
    "    print('Usage : py main.py <nom> <age>')\n",
    "    sys.exit(0)\n",
    "else:\n",
    "    sys.exit(8)\n"
   ]
  },
  {
   "cell_type": "markdown",
   "metadata": {},
   "source": [
    "En CLI: echo %errorlevel%"
   ]
  }
 ],
 "metadata": {
  "kernelspec": {
   "display_name": ".venv",
   "language": "python",
   "name": "python3"
  },
  "language_info": {
   "codemirror_mode": {
    "name": "ipython",
    "version": 3
   },
   "file_extension": ".py",
   "mimetype": "text/x-python",
   "name": "python",
   "nbconvert_exporter": "python",
   "pygments_lexer": "ipython3",
   "version": "3.12.5"
  }
 },
 "nbformat": 4,
 "nbformat_minor": 2
}
